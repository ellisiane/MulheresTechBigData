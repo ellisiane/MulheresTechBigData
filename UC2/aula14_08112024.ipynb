{
 "cells": [
  {
   "cell_type": "markdown",
   "metadata": {},
   "source": [
    "BIG DATA\n",
    "\n",
    "https://portaldatransparencia.gov.br/download-de-dados/novo-bolsa-familia"
   ]
  },
  {
   "cell_type": "code",
   "execution_count": null,
   "metadata": {},
   "outputs": [],
   "source": [
    "import pandas as pd\n",
    "import time\n",
    "\n",
    "arquivo1=pd.read_csv(\"202401_NovoBolsaFamilia.csv\", sep=\";\", encoding=\"latin-1\") #caminhos dos arquivos\n",
    "arquivo2=pd.read_csv(\"202402_NovoBolsaFamilia.csv\", sep=\";\", encoding=\"latin-1\")\n",
    "\n",
    "inicio_tempo=time.time() #marcação do tempo de processamento\n",
    "df_pandas=pd.concat([arquivo1,arquivo2])\n",
    "\n",
    "display(df_pandas.head())\n",
    "\n",
    "print(\"Tempo de execução com Pandas:\", time.time() - inicio_tempo, \"segundos\") \n",
    "\n"
   ]
  },
  {
   "cell_type": "code",
   "execution_count": 20,
   "metadata": {},
   "outputs": [
    {
     "data": {
      "text/html": [
       "<div><style>\n",
       ".dataframe > thead > tr,\n",
       ".dataframe > tbody > tr {\n",
       "  text-align: right;\n",
       "  white-space: pre-wrap;\n",
       "}\n",
       "</style>\n",
       "<small>shape: (5, 9)</small><table border=\"1\" class=\"dataframe\"><thead><tr><th>MÊS COMPETÊNCIA</th><th>MÊS REFERÊNCIA</th><th>UF</th><th>CÓDIGO MUNICÍPIO SIAFI</th><th>NOME MUNICÍPIO</th><th>CPF FAVORECIDO</th><th>NIS FAVORECIDO</th><th>NOME FAVORECIDO</th><th>VALOR PARCELA</th></tr><tr><td>i64</td><td>i64</td><td>str</td><td>i64</td><td>str</td><td>str</td><td>i64</td><td>str</td><td>str</td></tr></thead><tbody><tr><td>202401</td><td>202303</td><td>&quot;AC&quot;</td><td>139</td><td>&quot;RIO BRANCO&quot;</td><td>&quot;***.511.972-**&quot;</td><td>16291115205</td><td>&quot;JANAINA FERREIRA DA SILVA&quot;</td><td>&quot;800,00&quot;</td></tr><tr><td>202401</td><td>202303</td><td>&quot;BA&quot;</td><td>3329</td><td>&quot;ANGUERA&quot;</td><td>&quot;***.909.745-**&quot;</td><td>20474429886</td><td>&quot;TACIANE MARQUES DA SILVA&quot;</td><td>&quot;750,00&quot;</td></tr><tr><td>202401</td><td>202303</td><td>&quot;BA&quot;</td><td>3731</td><td>&quot;MONTE SANTO&quot;</td><td>&quot;***.872.338-**&quot;</td><td>20195376298</td><td>&quot;MAILSON DOS SANTOS SILVA&quot;</td><td>&quot;650,00&quot;</td></tr><tr><td>202401</td><td>202303</td><td>&quot;BA&quot;</td><td>3761</td><td>&quot;NOVA VICOSA&quot;</td><td>&quot;***.665.905-**&quot;</td><td>12723589082</td><td>&quot;IRENI RICARDO GERALDO&quot;</td><td>&quot;650,00&quot;</td></tr><tr><td>202401</td><td>202303</td><td>&quot;BA&quot;</td><td>3849</td><td>&quot;SALVADOR&quot;</td><td>&quot;***.932.435-**&quot;</td><td>20024584007</td><td>&quot;ELIENE GOMES DOS SANTOS&quot;</td><td>&quot;850,00&quot;</td></tr></tbody></table></div>"
      ],
      "text/plain": [
       "shape: (5, 9)\n",
       "┌────────────┬────────────┬─────┬────────────┬───┬────────────┬────────────┬───────────┬───────────┐\n",
       "│ MÊS COMPET ┆ MÊS        ┆ UF  ┆ CÓDIGO     ┆ … ┆ CPF        ┆ NIS        ┆ NOME FAVO ┆ VALOR     │\n",
       "│ ÊNCIA      ┆ REFERÊNCIA ┆ --- ┆ MUNICÍPIO  ┆   ┆ FAVORECIDO ┆ FAVORECIDO ┆ RECIDO    ┆ PARCELA   │\n",
       "│ ---        ┆ ---        ┆ str ┆ SIAFI      ┆   ┆ ---        ┆ ---        ┆ ---       ┆ ---       │\n",
       "│ i64        ┆ i64        ┆     ┆ ---        ┆   ┆ str        ┆ i64        ┆ str       ┆ str       │\n",
       "│            ┆            ┆     ┆ i64        ┆   ┆            ┆            ┆           ┆           │\n",
       "╞════════════╪════════════╪═════╪════════════╪═══╪════════════╪════════════╪═══════════╪═══════════╡\n",
       "│ 202401     ┆ 202303     ┆ AC  ┆ 139        ┆ … ┆ ***.511.97 ┆ 1629111520 ┆ JANAINA   ┆ 800,00    │\n",
       "│            ┆            ┆     ┆            ┆   ┆ 2-**       ┆ 5          ┆ FERREIRA  ┆           │\n",
       "│            ┆            ┆     ┆            ┆   ┆            ┆            ┆ DA SILVA  ┆           │\n",
       "│ 202401     ┆ 202303     ┆ BA  ┆ 3329       ┆ … ┆ ***.909.74 ┆ 2047442988 ┆ TACIANE   ┆ 750,00    │\n",
       "│            ┆            ┆     ┆            ┆   ┆ 5-**       ┆ 6          ┆ MARQUES   ┆           │\n",
       "│            ┆            ┆     ┆            ┆   ┆            ┆            ┆ DA SILVA  ┆           │\n",
       "│ 202401     ┆ 202303     ┆ BA  ┆ 3731       ┆ … ┆ ***.872.33 ┆ 2019537629 ┆ MAILSON   ┆ 650,00    │\n",
       "│            ┆            ┆     ┆            ┆   ┆ 8-**       ┆ 8          ┆ DOS       ┆           │\n",
       "│            ┆            ┆     ┆            ┆   ┆            ┆            ┆ SANTOS    ┆           │\n",
       "│            ┆            ┆     ┆            ┆   ┆            ┆            ┆ SILVA     ┆           │\n",
       "│ 202401     ┆ 202303     ┆ BA  ┆ 3761       ┆ … ┆ ***.665.90 ┆ 1272358908 ┆ IRENI     ┆ 650,00    │\n",
       "│            ┆            ┆     ┆            ┆   ┆ 5-**       ┆ 2          ┆ RICARDO   ┆           │\n",
       "│            ┆            ┆     ┆            ┆   ┆            ┆            ┆ GERALDO   ┆           │\n",
       "│ 202401     ┆ 202303     ┆ BA  ┆ 3849       ┆ … ┆ ***.932.43 ┆ 2002458400 ┆ ELIENE    ┆ 850,00    │\n",
       "│            ┆            ┆     ┆            ┆   ┆ 5-**       ┆ 7          ┆ GOMES DOS ┆           │\n",
       "│            ┆            ┆     ┆            ┆   ┆            ┆            ┆ SANTOS    ┆           │\n",
       "└────────────┴────────────┴─────┴────────────┴───┴────────────┴────────────┴───────────┴───────────┘"
      ]
     },
     "metadata": {},
     "output_type": "display_data"
    },
    {
     "name": "stdout",
     "output_type": "stream",
     "text": [
      "Tempo de execução com Polars: 1.1940422058105469 segundos\n"
     ]
    }
   ],
   "source": [
    "import polars as pl\n",
    "import time\n",
    "\n",
    "arquivo1=pl.read_csv(\"202401_NovoBolsaFamilia.csv\", separator=\";\", encoding=\"latin-1\") #caminhos dos arquivos\n",
    "arquivo2=pl.read_csv(\"202402_NovoBolsaFamilia.csv\", separator=\";\", encoding=\"latin-1\")\n",
    "\n",
    "inicio_tempo=time.time() #marcação do tempo de processamento\n",
    "df_polars=pl.concat([arquivo1,arquivo2])\n",
    "\n",
    "display(df_polars.head())\n",
    "\n",
    "print(\"Tempo de execução com Polars:\", time.time() - inicio_tempo, \"segundos\") \n"
   ]
  },
  {
   "cell_type": "markdown",
   "metadata": {},
   "source": [
    "PARQUET: formato para otimizar o processamentos dos dados"
   ]
  },
  {
   "cell_type": "code",
   "execution_count": 21,
   "metadata": {},
   "outputs": [
    {
     "name": "stdout",
     "output_type": "stream",
     "text": [
      "Tempo de exportação com Pandas: 0.0020024776458740234 segundos\n"
     ]
    }
   ],
   "source": [
    "#Exportação para .parquet com Pandas:\n",
    "\n",
    "inicio_tempo=time.time()\n",
    "df_pandas.to_parquet=(\"202401_NovoBolsaFamilia.parquet\")\n",
    "print(\"Tempo de exportação com Pandas:\",time.time() - inicio_tempo, \"segundos\")"
   ]
  },
  {
   "cell_type": "code",
   "execution_count": 22,
   "metadata": {},
   "outputs": [
    {
     "name": "stdout",
     "output_type": "stream",
     "text": [
      "Tempo de exportação com Polars: 0.0 segundos\n"
     ]
    }
   ],
   "source": [
    "#Exportação para .parquet com Polars:\n",
    "\n",
    "inicio_tempo=time.time()\n",
    "df_polars.write_parquet=(\"202401_NovoBolsaFamilia_polars.parquet\")\n",
    "print(\"Tempo de exportação com Polars:\",time.time() - inicio_tempo, \"segundos\")"
   ]
  },
  {
   "cell_type": "code",
   "execution_count": 25,
   "metadata": {},
   "outputs": [
    {
     "name": "stdout",
     "output_type": "stream",
     "text": [
      "Tempo de exportação com Polars: 46.434277296066284 segundos\n"
     ]
    }
   ],
   "source": [
    "import polars as pl\n",
    "import time\n",
    "\n",
    "# Carregar os arquivos CSV usando Polars com o parâmetro correto para o separador\n",
    "arquivo1 = pl.read_csv(\"202401_NovoBolsaFamilia.csv\", separator=\";\", encoding=\"latin-1\")\n",
    "arquivo2 = pl.read_csv(\"202402_NovoBolsaFamilia.csv\", separator=\";\", encoding=\"latin-1\")\n",
    "\n",
    "# Concatenar os arquivos usando Polars\n",
    "df_polars = pl.concat([arquivo1, arquivo2])\n",
    "\n",
    "# Marcar o tempo de exportação\n",
    "inicio_tempo = time.time()\n",
    "\n",
    "# Salvar o DataFrame Polars em um arquivo Parquet\n",
    "df_polars.write_parquet(\"202401_NovoBolsaFamilia_polars.parquet\")\n",
    "\n",
    "# Calcular e exibir o tempo de exportação\n",
    "print(\"Tempo de exportação com Polars:\", time.time() - inicio_tempo, \"segundos\")"
   ]
  }
 ],
 "metadata": {
  "kernelspec": {
   "display_name": "Python 3",
   "language": "python",
   "name": "python3"
  },
  "language_info": {
   "codemirror_mode": {
    "name": "ipython",
    "version": 3
   },
   "file_extension": ".py",
   "mimetype": "text/x-python",
   "name": "python",
   "nbconvert_exporter": "python",
   "pygments_lexer": "ipython3",
   "version": "3.11.4"
  },
  "orig_nbformat": 4
 },
 "nbformat": 4,
 "nbformat_minor": 2
}
