{
 "cells": [
  {
   "cell_type": "code",
   "execution_count": 24,
   "metadata": {},
   "outputs": [],
   "source": [
    "import pandas as pd \n",
    "import numpy as np \n"
   ]
  },
  {
   "cell_type": "code",
   "execution_count": 3,
   "metadata": {},
   "outputs": [
    {
     "name": "stdout",
     "output_type": "stream",
     "text": [
      "[10 20 30]\n",
      "0    10\n",
      "1    20\n",
      "2    30\n",
      "dtype: int64\n"
     ]
    }
   ],
   "source": [
    "#CONVERTENDO UM ARRAY PARA UMA SÉRIE\n",
    "arr1=np.array([10,20,30])\n",
    "serie1=pd.Series(arr1)\n",
    "print(arr1)\n",
    "print(serie1)\n"
   ]
  },
  {
   "cell_type": "code",
   "execution_count": 4,
   "metadata": {},
   "outputs": [
    {
     "name": "stdout",
     "output_type": "stream",
     "text": [
      "[10 20 30]\n"
     ]
    }
   ],
   "source": [
    "#convertendo uma série pra um array:\n",
    "arr2=serie1.to_numpy()\n",
    "print(arr2)"
   ]
  },
  {
   "cell_type": "code",
   "execution_count": 5,
   "metadata": {},
   "outputs": [
    {
     "name": "stdout",
     "output_type": "stream",
     "text": [
      "[[1 2]\n",
      " [3 4]]\n",
      "   A  B\n",
      "0  1  2\n",
      "1  3  4\n"
     ]
    }
   ],
   "source": [
    "#criação:\n",
    "arr3=np.array([[1,2],[3,4]])\n",
    "df_arr=pd.DataFrame(arr3,columns=['A','B'])\n",
    "print(arr3)\n",
    "print(df_arr)"
   ]
  },
  {
   "cell_type": "code",
   "execution_count": 6,
   "metadata": {},
   "outputs": [
    {
     "name": "stdout",
     "output_type": "stream",
     "text": [
      "0    1\n",
      "1    3\n",
      "Name: A, dtype: int64\n"
     ]
    }
   ],
   "source": [
    "#transformando uma coluna em uma série:\n",
    "coluna_serie=df_arr['A']\n",
    "print(coluna_serie)"
   ]
  },
  {
   "cell_type": "code",
   "execution_count": 7,
   "metadata": {},
   "outputs": [
    {
     "name": "stdout",
     "output_type": "stream",
     "text": [
      "Cidade\n",
      "RJ    3\n",
      "SP    2\n",
      "MG    1\n",
      "ES    1\n",
      "Name: count, dtype: int64\n"
     ]
    }
   ],
   "source": [
    "#contagem de valores:\n",
    "estados=pd.DataFrame({'Cidade':['RJ','SP','MG','ES','RJ','RJ','SP']})\n",
    "print(estados['Cidade'].value_counts())\n",
    "                     "
   ]
  },
  {
   "cell_type": "code",
   "execution_count": 8,
   "metadata": {},
   "outputs": [
    {
     "name": "stdout",
     "output_type": "stream",
     "text": [
      "121.6\n",
      "7.6\n",
      "7.5\n",
      "           Notas\n",
      "count  16.000000\n",
      "mean    7.600000\n",
      "std     1.606238\n",
      "min     4.000000\n",
      "25%     7.000000\n",
      "50%     7.500000\n",
      "75%     8.625000\n",
      "max    10.000000\n"
     ]
    }
   ],
   "source": [
    "#Cálculos Estatísticos:\n",
    "notas=pd.DataFrame({'Notas':[10,8.5,7,7,7,7,5.6,6,8,8,7,9,10,4,9,8.5]})\n",
    "print(notas['Notas'].sum()) #soma\n",
    "print(notas['Notas'].mean()) #média\n",
    "print(notas['Notas'].median()) #mediana\n",
    "print(notas.describe()) # resumo de estatísticas"
   ]
  },
  {
   "cell_type": "markdown",
   "metadata": {},
   "source": [
    "Atividade 1\n",
    "\n",
    "Crie um Array unidimnesional com os números de 1 a 12. Transforme este array em uma matriz de 3 linhas e quatro colunas.\n",
    "(Desafio: Aplique a transposição da matriz para criar as dimensões em 4x3 (.trampose) e, em seguida, crie um array unidimensional (.flatten))"
   ]
  },
  {
   "cell_type": "markdown",
   "metadata": {},
   "source": [
    "Atividade 2\n",
    "\n",
    "Leia o arquivo ClassicoDisco.csv trabalhando em aulas anteriore e aplique o comando describe() para gerar uma análise estatística das últimas linnhas do Dataset com apoio nesta atividade"
   ]
  },
  {
   "cell_type": "code",
   "execution_count": 30,
   "metadata": {},
   "outputs": [
    {
     "name": "stdout",
     "output_type": "stream",
     "text": [
      "[ 1  2  3  4  5  6  7  8  9 10 11 12]\n",
      "Matriz 3x4:\n",
      " [[ 1  2  3  4]\n",
      " [ 5  6  7  8]\n",
      " [ 9 10 11 12]]\n",
      "Matriz 4x3 (transposta):\n",
      " [[ 1  5  9]\n",
      " [ 2  6 10]\n",
      " [ 3  7 11]\n",
      " [ 4  8 12]]\n",
      "Array unidimensional:\n",
      " [ 1  5  9  2  6 10  3  7 11  4  8 12]\n"
     ]
    }
   ],
   "source": [
    "#Atividade 1\n",
    "array = np.arange(1,13)\n",
    "print(array)\n",
    "matriz_3x4 = array.reshape(3, 4) \n",
    "print(\"Matriz 3x4:\\n\", matriz_3x4)\n",
    "\n",
    "#desafio\n",
    "matriz_4x3 = matriz_3x4.transpose() \n",
    "print(\"Matriz 4x3 (transposta):\\n\", matriz_4x3) \n",
    "\n",
    "array_flatten = matriz_4x3.flatten() \n",
    "print(\"Array unidimensional:\\n\", array_flatten)"
   ]
  },
  {
   "cell_type": "code",
   "execution_count": 29,
   "metadata": {},
   "outputs": [
    {
     "name": "stdout",
     "output_type": "stream",
     "text": [
      "         Year       Duration  Time_Signature  Danceability    Energy  \\\n",
      "count     5.0       5.000000             5.0      5.000000  5.000000   \n",
      "mean   1979.0  322579.000000             4.0      0.659200  0.907400   \n",
      "std       0.0   80231.120066             0.0      0.032097  0.062304   \n",
      "min    1979.0  208200.000000             4.0      0.633000  0.840000   \n",
      "25%    1979.0  299510.000000             4.0      0.633000  0.854000   \n",
      "50%    1979.0  306818.000000             4.0      0.649000  0.901000   \n",
      "75%    1979.0  390567.000000             4.0      0.672000  0.970000   \n",
      "max    1979.0  407800.000000             4.0      0.709000  0.972000   \n",
      "\n",
      "             Key  Loudness  Mode  Speechiness  Acousticness  Instrumentalness  \\\n",
      "count   5.000000   5.00000   5.0      5.00000      5.000000          5.000000   \n",
      "mean    6.000000  -6.35860   1.0      0.05708      0.011308          0.223529   \n",
      "std     3.082207   2.57186   0.0      0.04591      0.022023          0.392843   \n",
      "min     2.000000 -10.24800   1.0      0.03250      0.000343          0.000009   \n",
      "25%     5.000000  -7.71300   1.0      0.03480      0.000667          0.000055   \n",
      "50%     5.000000  -4.92900   1.0      0.03800      0.000681          0.006580   \n",
      "75%     8.000000  -4.75000   1.0      0.04110      0.004250          0.202000   \n",
      "max    10.000000  -4.15300   1.0      0.13900      0.050600          0.909000   \n",
      "\n",
      "       Liveness   Valence       Tempo  Popularity  \n",
      "count   5.00000  5.000000    5.000000    5.000000  \n",
      "mean    0.30986  0.851000  128.363600   22.200000  \n",
      "std     0.23441  0.066246    0.792989    5.167204  \n",
      "min     0.05330  0.757000  127.591000   15.000000  \n",
      "25%     0.10100  0.815000  127.776000   20.000000  \n",
      "50%     0.37500  0.862000  128.020000   23.000000  \n",
      "75%     0.39600  0.900000  129.173000   24.000000  \n",
      "max     0.62400  0.921000  129.258000   29.000000  \n"
     ]
    }
   ],
   "source": [
    "#Atividade 2\n",
    "\n",
    "df_disco = pd.read_csv('C:\\\\Users\\\\unidade.copacabana\\\\Documents\\\\BigDataSenac\\\\UC2\\\\ClassicDisco.csv')\n",
    "ultimas_linhas = df_disco.tail() \n",
    "analise_estatistica = ultimas_linhas.describe() \n",
    "print(analise_estatistica)"
   ]
  },
  {
   "cell_type": "markdown",
   "metadata": {},
   "source": [
    "#count: O número de valores não-nulos na coluna.\n",
    "#mean: A média aritmética dos valores.\n",
    "#std: O desvio padrão, que mede a quantidade de variação ou dispersão dos valores.\n",
    "#min: O valor mínimo na coluna.\n",
    "#25% (primeiro quartil): O valor abaixo do qual 25% dos dados se encontram.\n",
    "#50% (mediana): O valor central, abaixo do qual 50% dos dados se encontram.\n",
    "#75% (terceiro quartil): O valor abaixo do qual 75% dos dados se encontram.\n",
    "#max: O valor máximo na coluna."
   ]
  }
 ],
 "metadata": {
  "kernelspec": {
   "display_name": "Python 3",
   "language": "python",
   "name": "python3"
  },
  "language_info": {
   "codemirror_mode": {
    "name": "ipython",
    "version": 3
   },
   "file_extension": ".py",
   "mimetype": "text/x-python",
   "name": "python",
   "nbconvert_exporter": "python",
   "pygments_lexer": "ipython3",
   "version": "3.11.4"
  },
  "orig_nbformat": 4
 },
 "nbformat": 4,
 "nbformat_minor": 2
}
