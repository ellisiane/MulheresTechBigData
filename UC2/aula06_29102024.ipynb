{
 "cells": [
  {
   "cell_type": "code",
   "execution_count": 2,
   "metadata": {},
   "outputs": [],
   "source": [
    "import pandas as pd \n",
    "import numpy as np "
   ]
  },
  {
   "cell_type": "code",
   "execution_count": null,
   "metadata": {},
   "outputs": [],
   "source": [
    "dados=pd.read_csv('weight_change_dataset.csv')\n",
    "display(dados.head())\n",
    "estatistica=dados.describe()\n",
    "display(estatistica)\n",
    "df_copia=dados.copy() #BOAS PRÁTICAS: sempre inicie com uma cópia do dataset original para as primeiras manipulações e edições de dados\n",
    "display(df_copia) # comentario"
   ]
  },
  {
   "cell_type": "code",
   "execution_count": null,
   "metadata": {},
   "outputs": [],
   "source": [
    "#Selecionando todos os Níveis de Qualidade de Sono que sejam 'Excellent':\n",
    "df_loc=df_copia.loc[df_copia['Sleep Quality']=='Excellent']\n",
    "display(df_loc)"
   ]
  },
  {
   "cell_type": "code",
   "execution_count": null,
   "metadata": {},
   "outputs": [],
   "source": [
    "#selecionando informações por indices (limites e/ou colunas específicas)\n",
    "df_loc2=df_copia.iloc[:2,:4]\n",
    "display(df_loc2)"
   ]
  },
  {
   "cell_type": "code",
   "execution_count": null,
   "metadata": {},
   "outputs": [],
   "source": [
    "#selecionando a partir de filtros com teste lógico\n",
    "df_query=df_copia.query('Age<40')\n",
    "display(df_query)"
   ]
  },
  {
   "cell_type": "markdown",
   "metadata": {},
   "source": [
    "Atividade 1: (Aula)\n",
    "\n",
    "A partir do dataset trabalhado nesta aula, trace 3 perfis e dos demonstre no display:\n",
    "Perfil 1 : Pessoas sedentárias com dietas alimentares de até 2200 calorias;\n",
    "Perfil 2 : Pessoas acima de 50 anos com hábitos muito bons de atividades físicas;\n",
    "Perfil 3: Pessoas com menos de 20 anos que participaram dos estudos nutricionais por mais de 1 mês\n",
    "\n",
    "Atividade 2: (Github)\n",
    "Reaplique os processo de leitura, cópia e consultas exercitadas em aula utilizando um dataset livre pesquisapo por você (dê preferência a arquivos . csv . xlsx ou .json).\n"
   ]
  },
  {
   "cell_type": "code",
   "execution_count": null,
   "metadata": {},
   "outputs": [],
   "source": [
    "# ATIVIDADE 1\n",
    "import pandas as pd\n",
    "dados=pd.read_csv('weight_change_dataset.csv')\n",
    "print(dados.columns)\n",
    "\n",
    "# Perfil 1: Pessoas sedentárias com dietas alimentares de até 2200 calorias \n",
    "perfil_1 = dados.loc[(dados['Physical Activity Level'] == 'Sedentary') & (dados['Daily Calories Consumed'] <= 2200)] \n",
    "display(\"Perfil 1:\\n\", perfil_1)\n",
    "\n",
    "# Perfil 2: Pessoas acima de 50 anos com hábitos muito bons de atividades físicas\n",
    "perfil_2 = dados.loc[(dados['Age'] > 50) & (dados['Physical Activity Level'] == 'Very Active')]\n",
    "display(\"Perfil 2:\\n\", perfil_2)\n",
    "\n",
    "# Perfil 3: Pessoas com menos de 20 anos que participaram dos estudos nutricionais por mais de 1 mês\n",
    "perfil_3 = dados.query(\"Age < 20 and `Duration (weeks)` > 4\")\n",
    "display(\"Perfil 3:\\n\", perfil_3)\n",
    "\n"
   ]
  },
  {
   "cell_type": "code",
   "execution_count": 15,
   "metadata": {},
   "outputs": [
    {
     "name": "stdout",
     "output_type": "stream",
     "text": [
      "Index(['Track', 'Artist', 'Album', 'Year', 'Duration', 'Time_Signature',\n",
      "       'Danceability', 'Energy', 'Key', 'Loudness', 'Mode', 'Speechiness',\n",
      "       'Acousticness', 'Instrumentalness', 'Liveness', 'Valence', 'Tempo',\n",
      "       'Popularity'],\n",
      "      dtype='object')\n"
     ]
    },
    {
     "data": {
      "text/plain": [
       "'Perfil 1:\\n'"
      ]
     },
     "metadata": {},
     "output_type": "display_data"
    },
    {
     "data": {
      "text/html": [
       "<div>\n",
       "<style scoped>\n",
       "    .dataframe tbody tr th:only-of-type {\n",
       "        vertical-align: middle;\n",
       "    }\n",
       "\n",
       "    .dataframe tbody tr th {\n",
       "        vertical-align: top;\n",
       "    }\n",
       "\n",
       "    .dataframe thead th {\n",
       "        text-align: right;\n",
       "    }\n",
       "</style>\n",
       "<table border=\"1\" class=\"dataframe\">\n",
       "  <thead>\n",
       "    <tr style=\"text-align: right;\">\n",
       "      <th></th>\n",
       "      <th>Album</th>\n",
       "      <th>Artist</th>\n",
       "    </tr>\n",
       "  </thead>\n",
       "  <tbody>\n",
       "    <tr>\n",
       "      <th>0</th>\n",
       "      <td>A Taste Of Honey</td>\n",
       "      <td>A Taste Of Honey</td>\n",
       "    </tr>\n",
       "    <tr>\n",
       "      <th>1</th>\n",
       "      <td>A Taste Of Honey</td>\n",
       "      <td>A Taste Of Honey</td>\n",
       "    </tr>\n",
       "    <tr>\n",
       "      <th>2</th>\n",
       "      <td>A Taste Of Honey</td>\n",
       "      <td>A Taste Of Honey</td>\n",
       "    </tr>\n",
       "    <tr>\n",
       "      <th>3</th>\n",
       "      <td>Another Taste (Expanded Edition)</td>\n",
       "      <td>A Taste Of Honey</td>\n",
       "    </tr>\n",
       "    <tr>\n",
       "      <th>4</th>\n",
       "      <td>A Taste Of Honey</td>\n",
       "      <td>A Taste Of Honey</td>\n",
       "    </tr>\n",
       "    <tr>\n",
       "      <th>...</th>\n",
       "      <td>...</td>\n",
       "      <td>...</td>\n",
       "    </tr>\n",
       "    <tr>\n",
       "      <th>719</th>\n",
       "      <td>Twelve Inch Classics from the 70s, Vol. 2</td>\n",
       "      <td>Voyage</td>\n",
       "    </tr>\n",
       "    <tr>\n",
       "      <th>720</th>\n",
       "      <td>Fly Away</td>\n",
       "      <td>Voyage</td>\n",
       "    </tr>\n",
       "    <tr>\n",
       "      <th>721</th>\n",
       "      <td>Voyage</td>\n",
       "      <td>Voyage</td>\n",
       "    </tr>\n",
       "    <tr>\n",
       "      <th>722</th>\n",
       "      <td>Fly Away</td>\n",
       "      <td>Voyage</td>\n",
       "    </tr>\n",
       "    <tr>\n",
       "      <th>723</th>\n",
       "      <td>Fly Away</td>\n",
       "      <td>Voyage</td>\n",
       "    </tr>\n",
       "  </tbody>\n",
       "</table>\n",
       "<p>718 rows × 2 columns</p>\n",
       "</div>"
      ],
      "text/plain": [
       "                                         Album            Artist\n",
       "0                             A Taste Of Honey  A Taste Of Honey\n",
       "1                             A Taste Of Honey  A Taste Of Honey\n",
       "2                             A Taste Of Honey  A Taste Of Honey\n",
       "3             Another Taste (Expanded Edition)  A Taste Of Honey\n",
       "4                             A Taste Of Honey  A Taste Of Honey\n",
       "..                                         ...               ...\n",
       "719  Twelve Inch Classics from the 70s, Vol. 2            Voyage\n",
       "720                                   Fly Away            Voyage\n",
       "721                                     Voyage            Voyage\n",
       "722                                   Fly Away            Voyage\n",
       "723                                   Fly Away            Voyage\n",
       "\n",
       "[718 rows x 2 columns]"
      ]
     },
     "metadata": {},
     "output_type": "display_data"
    },
    {
     "data": {
      "text/plain": [
       "'Perfil 2:\\n'"
      ]
     },
     "metadata": {},
     "output_type": "display_data"
    },
    {
     "data": {
      "text/html": [
       "<div>\n",
       "<style scoped>\n",
       "    .dataframe tbody tr th:only-of-type {\n",
       "        vertical-align: middle;\n",
       "    }\n",
       "\n",
       "    .dataframe tbody tr th {\n",
       "        vertical-align: top;\n",
       "    }\n",
       "\n",
       "    .dataframe thead th {\n",
       "        text-align: right;\n",
       "    }\n",
       "</style>\n",
       "<table border=\"1\" class=\"dataframe\">\n",
       "  <thead>\n",
       "    <tr style=\"text-align: right;\">\n",
       "      <th></th>\n",
       "      <th>Album</th>\n",
       "      <th>Energy</th>\n",
       "    </tr>\n",
       "  </thead>\n",
       "  <tbody>\n",
       "    <tr>\n",
       "      <th>98</th>\n",
       "      <td>One Hit Magic: The 70's</td>\n",
       "      <td>0.631</td>\n",
       "    </tr>\n",
       "    <tr>\n",
       "      <th>111</th>\n",
       "      <td>Discoset 1</td>\n",
       "      <td>0.707</td>\n",
       "    </tr>\n",
       "    <tr>\n",
       "      <th>113</th>\n",
       "      <td>Love In C Minor (Franc Moody Remix)</td>\n",
       "      <td>0.758</td>\n",
       "    </tr>\n",
       "    <tr>\n",
       "      <th>127</th>\n",
       "      <td>C'est Chic (2018 Remaster)</td>\n",
       "      <td>0.670</td>\n",
       "    </tr>\n",
       "    <tr>\n",
       "      <th>137</th>\n",
       "      <td>Down and Counting - The Single</td>\n",
       "      <td>0.917</td>\n",
       "    </tr>\n",
       "    <tr>\n",
       "      <th>410</th>\n",
       "      <td>No Doubt About It</td>\n",
       "      <td>0.852</td>\n",
       "    </tr>\n",
       "  </tbody>\n",
       "</table>\n",
       "</div>"
      ],
      "text/plain": [
       "                                   Album  Energy\n",
       "98               One Hit Magic: The 70's   0.631\n",
       "111                           Discoset 1   0.707\n",
       "113  Love In C Minor (Franc Moody Remix)   0.758\n",
       "127           C'est Chic (2018 Remaster)   0.670\n",
       "137       Down and Counting - The Single   0.917\n",
       "410                    No Doubt About It   0.852"
      ]
     },
     "metadata": {},
     "output_type": "display_data"
    }
   ],
   "source": [
    "#Atividade 2: (Github)\n",
    "#Reaplique os processo de leitura, cópia e consultas exercitadas em aula utilizando um dataset livre pesquisapo por você \n",
    "#(dê preferência a arquivos . csv . xlsx ou .json).\n",
    "\n",
    "import pandas as pd\n",
    "dados=pd.read_csv('ClassicDisco.csv')\n",
    "print(dados.columns)\n",
    "\n",
    "# Perfil 1: Album e artista\n",
    "perfil_1 = dados[['Album', 'Artist']][dados['Year'] <= 1990]\n",
    "display(\"Perfil 1:\\n\", perfil_1)\n",
    "\n",
    "# Perfil 2: Pessoas acima de 50 anos com hábitos muito bons de atividades físicas\n",
    "perfil_2 = dados[['Album', 'Energy']][dados['Year'] > 1990]\n",
    "display(\"Perfil 2:\\n\", perfil_2)\n",
    "\n",
    "\n",
    "\n",
    "\n",
    "\n"
   ]
  }
 ],
 "metadata": {
  "kernelspec": {
   "display_name": "Python 3",
   "language": "python",
   "name": "python3"
  },
  "language_info": {
   "codemirror_mode": {
    "name": "ipython",
    "version": 3
   },
   "file_extension": ".py",
   "mimetype": "text/x-python",
   "name": "python",
   "nbconvert_exporter": "python",
   "pygments_lexer": "ipython3",
   "version": "3.11.4"
  },
  "orig_nbformat": 4
 },
 "nbformat": 4,
 "nbformat_minor": 2
}
