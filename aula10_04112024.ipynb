{
 "cells": [
  {
   "cell_type": "markdown",
   "metadata": {},
   "source": [
    "** Variância, Desvio-Padrão e Coeficiente de Variação:**"
   ]
  },
  {
   "cell_type": "code",
   "execution_count": 67,
   "metadata": {},
   "outputs": [],
   "source": [
    "import pandas as pd\n",
    "import numpy as np"
   ]
  },
  {
   "cell_type": "code",
   "execution_count": 68,
   "metadata": {},
   "outputs": [],
   "source": [
    "amostra=np.array([2500,3200,2700,3000,3400,3700,4500,4700,5000,5200,6000,7000])"
   ]
  },
  {
   "cell_type": "code",
   "execution_count": 69,
   "metadata": {},
   "outputs": [
    {
     "name": "stdout",
     "output_type": "stream",
     "text": [
      "4241.666666666667\n"
     ]
    }
   ],
   "source": [
    "media=np.mean(amostra)\n",
    "print(media)\n",
    "#media=sum"
   ]
  },
  {
   "cell_type": "code",
   "execution_count": 70,
   "metadata": {},
   "outputs": [
    {
     "data": {
      "text/plain": [
       "[np.float64(-1741.666666666667),\n",
       " np.float64(-1041.666666666667),\n",
       " np.float64(-1541.666666666667),\n",
       " np.float64(-1241.666666666667),\n",
       " np.float64(-841.666666666667),\n",
       " np.float64(-541.666666666667),\n",
       " np.float64(258.33333333333303),\n",
       " np.float64(458.33333333333303),\n",
       " np.float64(758.333333333333),\n",
       " np.float64(958.333333333333),\n",
       " np.float64(1758.333333333333),\n",
       " np.float64(2758.333333333333)]"
      ]
     },
     "metadata": {},
     "output_type": "display_data"
    }
   ],
   "source": [
    "#diferenças em relação a média\n",
    "diferencas=[x - media for x in amostra]\n",
    "display(diferencas)\n"
   ]
  },
  {
   "cell_type": "code",
   "execution_count": 71,
   "metadata": {},
   "outputs": [
    {
     "data": {
      "text/plain": [
       "[np.float64(3029161.1111111124),\n",
       " np.float64(1080827.7777777782),\n",
       " np.float64(2372494.4444444454),\n",
       " np.float64(1537494.4444444452),\n",
       " np.float64(704161.1111111117),\n",
       " np.float64(289161.1111111114),\n",
       " np.float64(62494.444444444285),\n",
       " np.float64(205827.77777777752),\n",
       " np.float64(570827.7777777774),\n",
       " np.float64(914161.1111111105),\n",
       " np.float64(3087494.4444444436),\n",
       " np.float64(7604161.111111109)]"
      ]
     },
     "metadata": {},
     "output_type": "display_data"
    }
   ],
   "source": [
    "quadrados_das_diferencas=[x**2 - media for x in diferencas]\n",
    "display(quadrados_das_diferencas)"
   ]
  },
  {
   "cell_type": "code",
   "execution_count": 72,
   "metadata": {},
   "outputs": [
    {
     "name": "stdout",
     "output_type": "stream",
     "text": [
      "1788188.888888889\n"
     ]
    }
   ],
   "source": [
    "#calcular a média dos quadrados das diferencas:\n",
    "variancia=sum(quadrados_das_diferencas)/len(quadrados_das_diferencas)\n",
    "print(variancia)"
   ]
  },
  {
   "cell_type": "code",
   "execution_count": 73,
   "metadata": {},
   "outputs": [
    {
     "name": "stdout",
     "output_type": "stream",
     "text": [
      "1337.2318007319782\n"
     ]
    }
   ],
   "source": [
    "#calcular o desvio-padrão (raiz quadrado da variância)\n",
    "desviopadrao=variancia**0.5\n",
    "print(desviopadrao)"
   ]
  },
  {
   "cell_type": "markdown",
   "metadata": {},
   "source": []
  },
  {
   "cell_type": "markdown",
   "metadata": {},
   "source": [
    "**Resumo Estatístico com Numpy e Pandas:**"
   ]
  },
  {
   "cell_type": "code",
   "execution_count": 74,
   "metadata": {},
   "outputs": [
    {
     "name": "stdout",
     "output_type": "stream",
     "text": [
      "1792430.5555555557\n",
      "1338.8168491453773\n"
     ]
    }
   ],
   "source": [
    "#Numpy -- cálculo da variância\n",
    "variancia=np.var(amostra)\n",
    "print(variancia)\n",
    "\n",
    "#Numpy -- cálculo desvio-padrão\n",
    "desviopadrao=np.std(amostra)\n",
    "print(desviopadrao)\n",
    "\n"
   ]
  },
  {
   "cell_type": "code",
   "execution_count": 75,
   "metadata": {},
   "outputs": [
    {
     "name": "stdout",
     "output_type": "stream",
     "text": [
      "1955378.787878788\n",
      "1398.3485931193222\n"
     ]
    },
    {
     "data": {
      "text/plain": [
       "0     2500\n",
       "1     3200\n",
       "2     2700\n",
       "3     3000\n",
       "4     3400\n",
       "5     3700\n",
       "6     4500\n",
       "7     4700\n",
       "8     5000\n",
       "9     5200\n",
       "10    6000\n",
       "11    7000\n",
       "dtype: int64"
      ]
     },
     "metadata": {},
     "output_type": "display_data"
    }
   ],
   "source": [
    "#Pandas -- cálculo da variância\n",
    "\n",
    "\n",
    "amostra2=pd.Series(amostra)\n",
    "variancia=amostra2.var()\n",
    "print(variancia)\n",
    "\n",
    "#Pandas -- cálculo desvio-padrão\n",
    "desviopadrao=amostra2.std()\n",
    "print(desviopadrao)\n",
    "\n",
    "display(amostra2)\n"
   ]
  },
  {
   "cell_type": "markdown",
   "metadata": {},
   "source": [
    "** Coeficiente de Variação e Análise de Dispersão:**"
   ]
  },
  {
   "cell_type": "code",
   "execution_count": 76,
   "metadata": {},
   "outputs": [
    {
     "name": "stdout",
     "output_type": "stream",
     "text": [
      "0.3296696093798009\n"
     ]
    }
   ],
   "source": [
    "#Coeficiente de variação (CV) é o descio=padrão dividido pela média\n",
    "coef_variacao=desviopadrao/media\n",
    "print(coef_variacao)\n",
    "\n"
   ]
  },
  {
   "cell_type": "code",
   "execution_count": 77,
   "metadata": {},
   "outputs": [
    {
     "name": "stdout",
     "output_type": "stream",
     "text": [
      "10.868205134863054 %\n"
     ]
    }
   ],
   "source": [
    "#Calculo da distâncias da variância em relação a média:\n",
    "distancia=variancia/ (media**2)\n",
    "print(distancia*100,'%')\n"
   ]
  },
  {
   "cell_type": "markdown",
   "metadata": {},
   "source": [
    "Como eu interpreto isso?\n",
    "1. distância <= 10%: minha dispersão é BAIXA:\n",
    "2. distância > 10% <= 25%: minha dispersão é MODERADA:\n",
    "3. istância > 25%: minha dispersão é ALTA:"
   ]
  },
  {
   "cell_type": "markdown",
   "metadata": {},
   "source": [
    "ATIVIDADE: ATUALIZE O RESUMO ESTATÍSTICO DA SUA AMOSTRA RANDOM COM:\n",
    "variância\n",
    "Desvio-padrão\n",
    "Coefificente de variação\n",
    "dispersão"
   ]
  },
  {
   "cell_type": "code",
   "execution_count": 81,
   "metadata": {},
   "outputs": [
    {
     "data": {
      "text/plain": [
       "array([ 10, 254, 440, 724, 400, 678, 177, 488, 461, 789, 755, 448, 254,\n",
       "       380, 435, 970, 457, 645, 963, 299, 297, 332, 249, 600, 278, 947,\n",
       "       389, 246, 474, 333, 596, 733, 632, 761, 991, 169, 550, 103, 981,\n",
       "       234, 190, 564,  30, 541, 222,  44, 486, 102, 223, 617], dtype=int32)"
      ]
     },
     "metadata": {},
     "output_type": "display_data"
    },
    {
     "data": {
      "text/plain": [
       "np.float64(69241.54759999999)"
      ]
     },
     "metadata": {},
     "output_type": "display_data"
    },
    {
     "data": {
      "text/plain": [
       "np.float64(263.13788704783656)"
      ]
     },
     "metadata": {},
     "output_type": "display_data"
    },
    {
     "data": {
      "text/plain": [
       "np.float64(0.06203643702503023)"
      ]
     },
     "metadata": {},
     "output_type": "display_data"
    },
    {
     "name": "stdout",
     "output_type": "stream",
     "text": [
      "0.38485195187605414 %\n"
     ]
    }
   ],
   "source": [
    "amostra = np.random.randint(0, 1000, size=50) # Números entre 0 e 100 print(array_aleatorio)\n",
    "display(amostra)\n",
    "\n",
    "#Numpy -- cálculo da variância\n",
    "variancia=np.var(amostra)\n",
    "display(variancia)\n",
    "\n",
    "#Numpy -- cálculo desvio-padrão\n",
    "desviopadrao=np.std(amostra)\n",
    "display(desviopadrao)\n",
    "\n",
    "#Coeficiente de variação (CV) é o desvio=padrão dividido pela média\n",
    "coef_variacao=desviopadrao/media\n",
    "display(coef_variacao)\n",
    "\n",
    "#Calculo da distâncias da variância em relação a média:\n",
    "distancia=variancia/ (media**2)\n",
    "print(distancia*100,'%')  \n",
    "\n",
    "\n"
   ]
  }
 ],
 "metadata": {
  "kernelspec": {
   "display_name": "Python 3",
   "language": "python",
   "name": "python3"
  },
  "language_info": {
   "codemirror_mode": {
    "name": "ipython",
    "version": 3
   },
   "file_extension": ".py",
   "mimetype": "text/x-python",
   "name": "python",
   "nbconvert_exporter": "python",
   "pygments_lexer": "ipython3",
   "version": "3.11.4"
  },
  "orig_nbformat": 4
 },
 "nbformat": 4,
 "nbformat_minor": 2
}
