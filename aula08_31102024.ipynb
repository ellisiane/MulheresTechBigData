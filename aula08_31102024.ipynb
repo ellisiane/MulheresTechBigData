{
 "cells": [
  {
   "cell_type": "markdown",
   "metadata": {},
   "source": [
    "**Medidas de tendência central com Numpy:**"
   ]
  },
  {
   "cell_type": "code",
   "execution_count": 17,
   "metadata": {},
   "outputs": [],
   "source": [
    "import numpy as np"
   ]
  },
  {
   "cell_type": "code",
   "execution_count": 18,
   "metadata": {},
   "outputs": [],
   "source": [
    "amostra=np.array([2500,3200,2700,3000,3400,3700,4500,4700,5000,5200,6000,7000])"
   ]
  },
  {
   "cell_type": "code",
   "execution_count": null,
   "metadata": {},
   "outputs": [],
   "source": []
  },
  {
   "cell_type": "code",
   "execution_count": 19,
   "metadata": {},
   "outputs": [
    {
     "name": "stdout",
     "output_type": "stream",
     "text": [
      "Média: 4241.666666666667\n",
      "Mediana: 4100.0\n"
     ]
    }
   ],
   "source": [
    "media=np.mean(amostra)\n",
    "mediana=np.median(amostra) \n",
    "print(f'Média: {media}')\n",
    "print(f'Mediana: {mediana}')"
   ]
  },
  {
   "cell_type": "code",
   "execution_count": 20,
   "metadata": {},
   "outputs": [
    {
     "name": "stdout",
     "output_type": "stream",
     "text": [
      "Distancia entre média e mediana:3.46%\n"
     ]
    }
   ],
   "source": [
    "distancia=(media-mediana)/mediana*100\n",
    "print (f'Distancia entre média e mediana:{distancia:.2f}%')"
   ]
  },
  {
   "cell_type": "markdown",
   "metadata": {},
   "source": [
    "Como eu devo interpretar isso?\n",
    "\n",
    "Se: \n",
    "\n",
    "1. Distância <= |10%|: a minha média é CONFIÁVEL;\n",
    "\n",
    "2. 10% Distância <25%: existe uma influência MODERADA de valores extremos\n",
    "\n",
    "3. Distância >=|25%|: exixste ALTA influência dos valores extremos.\n"
   ]
  },
  {
   "cell_type": "markdown",
   "metadata": {},
   "source": [
    "#ATIVIDADE ASSISTIDA: Crie um array com 50 números aleatórios e repitam a análise sobre a distância calculada anterior para a nova amostra."
   ]
  },
  {
   "cell_type": "code",
   "execution_count": 23,
   "metadata": {},
   "outputs": [
    {
     "name": "stdout",
     "output_type": "stream",
     "text": [
      "[541  34  72 250 356 120 827 179 432 975 532  70 817 435 753 217 716 672\n",
      " 785 590  60 601  76 885 708 967 470 873 420 301 359 235 195 161 616  91\n",
      " 364 950 410 518 973 922  35 882 234 706  54 406 169  70]\n",
      "Média: 461.68\n",
      "Mediana: 426.0\n",
      "Distancia entre média e mediana:8.38%\n",
      "Primeiro Quartil (Q1):183.0\n",
      "Segundo Quartil (Q2): 426.0\n",
      "Primeiro Quartil (Q3):714.0\n",
      "A média esta DENTRO do intervalo interquartil, o que sugere confiabilidade.\n"
     ]
    }
   ],
   "source": [
    "import numpy as np\n",
    "\n",
    "amostra = np.random.randint(0, 1000, size=50) # Números entre 0 e 100 print(array_aleatorio)\n",
    "print(amostra)\n",
    "\n",
    "media=np.mean(amostra)\n",
    "mediana=np.median(amostra) \n",
    "print(f'Média: {media}')\n",
    "print(f'Mediana: {mediana}')\n",
    "distancia=(media-mediana)/mediana*100\n",
    "print (f'Distancia entre média e mediana:{distancia:.2f}%')\n",
    "\n",
    "# 10% Distância <25%: existe uma influência MODERADA de valores extremos \n",
    "# pois a distância entre média e mediana é 14.14%\n",
    "\n",
    "\n",
    "#INTERVALO INTERQUARTIL:\n",
    "\n",
    "q1=np.percentile(amostra,25) # o primeiro quartil representa 25% do total da amostra\n",
    "q2=np.percentile(amostra,50) # \n",
    "q3=np.percentile(amostra,75) # o terceiro quartil representa 75% do total da amostra\n",
    "\n",
    "#Exibição:\n",
    "\n",
    "print(f\"Primeiro Quartil (Q1):{q1}\")\n",
    "print(f\"Segundo Quartil (Q2): {q2}\")\n",
    "print(f\"Primeiro Quartil (Q3):{q3}\")\n",
    "\n",
    "if q1<=media<= q3:\n",
    "    print(\"A média esta DENTRO do intervalo interquartil, o que sugere confiabilidade.\")\n",
    "else:\n",
    "    print(\"A média esta FORA do intervalo interquartil, o que sugere MENOS confiabilidade.\")    \n",
    "\n"
   ]
  },
  {
   "cell_type": "markdown",
   "metadata": {},
   "source": [
    "** Outliers:**"
   ]
  },
  {
   "cell_type": "code",
   "execution_count": 25,
   "metadata": {},
   "outputs": [
    {
     "name": "stdout",
     "output_type": "stream",
     "text": [
      "Média:461.68\n",
      "Mediana:426.0\n",
      "Distância entre média e mediana:8.38%\n",
      "Primeiro Quartil (Q1):183.0\n",
      "Segundo Quartil (Q2):426.0\n",
      "Terceiro Quartil (Q3):714.0\n",
      "Intervalo InterQuartil:531.0\n",
      "Limite Superior:1510.5\n",
      "Limite Inferior:-613.5\n"
     ]
    }
   ],
   "source": [
    "#Cálculos para verificação do Intervalo InterQuartil (IQR) e seus Limites:\n",
    "\n",
    "iqr=q3-q1\n",
    "limite_superior=q3+(1.5*iqr)\n",
    "limite_inferior=q1-(1.5*iqr)\n",
    "\n",
    "#Resumo Estatístico\n",
    "print(f'Média:{media}')\n",
    "print(f'Mediana:{mediana}')\n",
    "print(f'Distância entre média e mediana:{distancia:.2f}%')\n",
    "print(f\"Primeiro Quartil (Q1):{q1}\")\n",
    "print(f\"Segundo Quartil (Q2):{q2}\")\n",
    "print(f\"Terceiro Quartil (Q3):{q3}\")\n",
    "print(f\"Intervalo InterQuartil:{iqr}\")\n",
    "print(f\"Limite Superior:{limite_superior}\")\n",
    "print(f\"Limite Inferior:{limite_inferior}\")\n",
    "\n",
    "# Distância entre média e mediana:8.38%  - A Minha média é confiável\n",
    "#Limite Superior 1510.5 e Limite Inferior -613.5 não tem outliers\n",
    "\n",
    "\n"
   ]
  }
 ],
 "metadata": {
  "kernelspec": {
   "display_name": "Python 3",
   "language": "python",
   "name": "python3"
  },
  "language_info": {
   "codemirror_mode": {
    "name": "ipython",
    "version": 3
   },
   "file_extension": ".py",
   "mimetype": "text/x-python",
   "name": "python",
   "nbconvert_exporter": "python",
   "pygments_lexer": "ipython3",
   "version": "3.11.4"
  },
  "orig_nbformat": 4
 },
 "nbformat": 4,
 "nbformat_minor": 2
}
